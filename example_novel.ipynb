{
 "cells": [
  {
   "cell_type": "markdown",
   "metadata": {},
   "source": [
    "# Webnovel workflow\n",
    "\n",
    "This notebook uses the files in test_data/novel_jpeg"
   ]
  },
  {
   "cell_type": "code",
   "execution_count": 1,
   "metadata": {},
   "outputs": [],
   "source": [
    "%matplotlib widget \n",
    "import pylyglot as glot\n",
    "from dotenv import load_dotenv\n",
    "import os\n",
    "\n",
    "# Load environment variables from .env file\n",
    "load_dotenv()\n",
    "\n",
    "# Use the API key from .env OR set it as None\n",
    "api_key = os.getenv('API_KEY')\n",
    "gemini_key = os.getenv('VERTEX')"
   ]
  },
  {
   "cell_type": "code",
   "execution_count": 2,
   "metadata": {},
   "outputs": [],
   "source": [
    "# name will determine the name used in raw_chapeters and final_chapters\n",
    "# url is used only for scrape()\n",
    "temp_dirc = 'testerr'\n",
    "test = glot.issue(\n",
    "    name='example_novel',\n",
    "    url = 'test_data/novel_jpeg/korean_page_num_1.jpg', # None uses test_images\n",
    "    api_key = api_key,\n",
    "    gemini_key=gemini_key,\n",
    "    raw_direc=temp_dirc\n",
    "    )\n"
   ]
  },
  {
   "cell_type": "code",
   "execution_count": 3,
   "metadata": {},
   "outputs": [],
   "source": [
    "# A method to clean out the working directory before rescraping\n",
    "test.clear_directories()"
   ]
  },
  {
   "cell_type": "code",
   "execution_count": 4,
   "metadata": {},
   "outputs": [],
   "source": [
    "# scrapes .jpegs from the specified url\n",
    "\n",
    "# tested working with newtoki and mangademon\n",
    "test.scrape()"
   ]
  },
  {
   "cell_type": "code",
   "execution_count": 5,
   "metadata": {},
   "outputs": [],
   "source": [
    "# the novel can be split automatically pretty easily\n",
    "test.repopulate_from_scrape()\n",
    "test.md_autosplit(thold=100)\n"
   ]
  },
  {
   "cell_type": "code",
   "execution_count": 6,
   "metadata": {},
   "outputs": [],
   "source": [
    "test.downsample()"
   ]
  },
  {
   "cell_type": "code",
   "execution_count": 7,
   "metadata": {},
   "outputs": [],
   "source": [
    "test.ocr_novel()"
   ]
  },
  {
   "cell_type": "code",
   "execution_count": 11,
   "metadata": {},
   "outputs": [],
   "source": [
    "# check raw_chapters/test/gpt_images/\n",
    "# this aspect of the code is in-flux\n",
    "# the best way to feed images to the models is not determined\n",
    "# 12/22/2023 - plan is to try to remove images and just use OCR + llm-no-vision to minimize cost\n",
    "# novel supports OCR w/ no vision, comic is not there yet.\n",
    "\n",
    "model = 'gemini' # or 'gpt'\n",
    "\n",
    "# # Longer chapters may need to be split up\n",
    "# # Further refinement would likely improve performance\n",
    "# test.translate_text_by_halves(model=model)\n",
    "\n",
    "# or translate it in 1 shot\n",
    "test.translate_text(model=model)"
   ]
  },
  {
   "cell_type": "code",
   "execution_count": 12,
   "metadata": {},
   "outputs": [
    {
     "name": "stdout",
     "output_type": "stream",
     "text": [
      "Page 1: Echo of the Mysterious Realm Chapter 1: Whispering Woods\n",
      "\n",
      "Page 2: Dear readers, I now invite you on a journey through a fantasy world. Remember, this is just a test for translation software. Let's see how it handles various elements.\n",
      "\n",
      "Page 3: This is sample text. I originally wrote the source text in English and am curious to see how it translates into different languages.\n",
      "\n",
      "Page 4: Have you ever wondered how onomatopoeia like \"bam\" and \"pow\" are handled in other languages? It's fascinating, right? Onomatopoeia are words that imitate sounds or actions.\n",
      "\n",
      "Page 5: Even noises can be onomatopoeia, like *screech*!\n",
      "\n",
      "Page 6: In the heart of the Whispering Woods, the air shimmered with magic. Young sorceress Liliville wove through the ancient trees, her robes swirling like a tapestry of light and shadow, carried by the ethereal wind.\n",
      "\n",
      "Page 7: Whispers of arcane words guided her path - she murmured in a voice laced with awe and determination.\n",
      "\n",
      "Page 8: Now, this is where it gets interesting. Typically, onomatopoeia like \"(:^5\" are followed by similar sounds. But what if we threw a curveball?\n",
      "\n",
      "Page 9: Instead of a crash, the air filled with a soft melody. Eerie, yet hauntingly beautiful.\n",
      "\n",
      "Page 10: Liliville's senses heightened, her breath catching in her throat. This sound was otherworldly, a harmony that spoke of other dimensions, perhaps even portals.\n",
      "\n",
      "Page 11: Ahead, a shimmering rainbow bridge pulsed with energy, its edges flickering between reality and illusion. Liliville cautiously approached, the archway glowing with an iridescent light. She could tell this was no ordinary phenomenon; this was a gateway to uncharted realms only seen in fantasy and video games.\n",
      "\n",
      "Page 12: As she stood before the portal, her mind raced with questions. What lay beyond? Would it be a realm of dragons and knights, or a dystopian world where machines reigned supreme?\n",
      "\n",
      "Page 13: With a deep breath, Liliville stepped forward, and the portal consumed her entirely. The last thing she heard was a *whoosh* as the gateway sealed shut behind her.\n",
      "\n",
      "Page 14: And that's the end of this chapter. How do you think translation software handled the combination of direct narration, onomatopoeia, and breaking the fourth wall?\n"
     ]
    }
   ],
   "source": [
    "# here is our translated text\n",
    "with open(f'{temp_dirc}/example_novel/text/example_novel.txt') as f:\n",
    "    print(f.read())"
   ]
  },
  {
   "cell_type": "code",
   "execution_count": 10,
   "metadata": {},
   "outputs": [
    {
     "name": "stdout",
     "output_type": "stream",
     "text": [
      "Title: Echoes of the Mystic Realm\n",
      "\n",
      "Chapter One: The Whispering Woods\n",
      "\n",
      "Dear reader, you're about to embark on a journey through a fantasy world. Remember, this is just a test for translation software. Let's see how it handles different elements, shall we?\n",
      "\n",
      "This is an example text. I composed the original text in English, and I wonder what language this is translated to?\n",
      "\n",
      "Do you ever think about how onomatopoeias like BOOM and CLANG sound in other languages? Interesting, right? These are action or noise words like...\n",
      "BOOM\n",
      "CLANG\n",
      "\n",
      "Maybe even a scream noise could be an onomatopoeia...\n",
      "Kyaaaaaa!!!!\n",
      "\n",
      "In the heart of the Whispering Woods, the air shimmered with magic. Lyrinel, a young mage, weaved through the ancient trees. Her robe, a tapestry of starlight and shadows, fluttered in the ethereal breeze.\n",
      "\n",
      "\"Arcane whispers guide me,\" she murmured, her voice a blend of awe and determination.\n",
      "\n",
      "Now, let's add a twist. Typically, a loud noise like a CRASH would follow. But what if it's something unexpected?\n",
      "\n",
      "Instead of a crash, a gentle melody filled the air, out of place yet hauntingly beautiful.\n",
      "\n",
      "Lyrinel halted, her senses heightened. The sound was not of this world; it was a harmony that spoke of other dimensions, a portal perhaps.\n",
      "\n",
      "Ahead, an iridescent rift pulsated, its edges flickering between reality and illusion. Lyrinel approached cautiously, her staff glowing with an azure light. She knew this was no ordinary phenomenon - it was a Gateway to the Unknown, a common element in fantasy and video games.\n",
      "\n",
      "Notice how we're blending typical fantasy elements with something a bit unusual. This keeps our translation software on its toes!\n",
      "\n",
      "As she stood before the portal, her mind buzzed with questions. What lay beyond? Was it a realm of dragons and knights, or a dystopian world where technology reigned supreme?\n",
      "\n",
      "With a deep breath, Lyrinel stepped forward, the portal swallowing her whole. The last thing she heard was the WHOOSH of the closing rift, a sound that transcended languages.\n",
      "\n",
      "And that's the end of this chapter. How do you think the translation software managed with the mix of direct narrative, onomatopoeias, and fourth-wall breaks?\n",
      "\n"
     ]
    }
   ],
   "source": [
    "# and the original english text...\n",
    "with open('test_data/novel_text/english_chapter.txt') as f:\n",
    "    print(f.read())"
   ]
  }
 ],
 "metadata": {
  "kernelspec": {
   "display_name": "comic_translator",
   "language": "python",
   "name": "python3"
  },
  "language_info": {
   "codemirror_mode": {
    "name": "ipython",
    "version": 3
   },
   "file_extension": ".py",
   "mimetype": "text/x-python",
   "name": "python",
   "nbconvert_exporter": "python",
   "pygments_lexer": "ipython3",
   "version": "3.11.7"
  }
 },
 "nbformat": 4,
 "nbformat_minor": 2
}
