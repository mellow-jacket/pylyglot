{
 "cells": [
  {
   "cell_type": "code",
   "execution_count": null,
   "metadata": {},
   "outputs": [],
   "source": [
    "import os\n",
    "\n",
    "os.chdir('..')"
   ]
  },
  {
   "cell_type": "code",
   "execution_count": 1,
   "metadata": {},
   "outputs": [],
   "source": [
    "%matplotlib widget\n",
    "import ctpy as ct\n",
    "from dotenv import load_dotenv\n",
    "\n",
    "# Load environment variables from .env file\n",
    "load_dotenv()\n",
    "\n",
    "# Use the API key\n",
    "api_key = os.getenv('API_KEY')"
   ]
  },
  {
   "cell_type": "code",
   "execution_count": 2,
   "metadata": {},
   "outputs": [],
   "source": [
    "test = ct.issue(\n",
    "    name='issue261',\n",
    "    url = 'https://newtoki317.com/webtoon/33111401?toon=%EC%9D%BC%EB%B0%98%EC%9B%B9%ED%88%B0',\n",
    "    api_key=api_key\n",
    "    )\n"
   ]
  },
  {
   "cell_type": "code",
   "execution_count": null,
   "metadata": {},
   "outputs": [],
   "source": [
    "#test.scrape()"
   ]
  },
  {
   "cell_type": "code",
   "execution_count": null,
   "metadata": {},
   "outputs": [],
   "source": [
    "#ct.separate_file('raw_chapters/issue261/raw_images/page_num_56.jpeg')"
   ]
  },
  {
   "cell_type": "code",
   "execution_count": null,
   "metadata": {},
   "outputs": [],
   "source": [
    "#ct.split_file('raw_chapters/issue261/raw_images/page_num_78.jpeg')"
   ]
  },
  {
   "cell_type": "code",
   "execution_count": null,
   "metadata": {},
   "outputs": [],
   "source": [
    "test.downsample(scale_factor=2.0)"
   ]
  },
  {
   "cell_type": "code",
   "execution_count": null,
   "metadata": {},
   "outputs": [],
   "source": [
    "test.combine_pages(3,4)\n",
    "test.combine_pages(5,6)\n",
    "test.combine_pages(8,9)\n",
    "test.combine_pages(11,12)\n",
    "test.combine_pages(14,15)\n",
    "test.combine_pages(18,19)\n",
    "test.combine_pages(21,22)\n",
    "test.combine_pages(24,25)\n",
    "test.combine_pages(27,28,29)\n",
    "test.combine_pages(34,35)\n",
    "test.combine_pages(40,41)\n",
    "test.combine_pages(44,45)\n",
    "test.combine_pages(62,63)\n",
    "test.combine_pages(64,65)\n",
    "test.combine_pages(66,67)\n",
    "test.combine_pages(72,73)\n",
    "test.combine_pages(74,75)\n",
    "test.combine_pages(82,83)\n",
    "test.combine_pages(84,85)\n",
    "test.combine_pages(86,87)\n",
    "test.combine_pages(94,95)\n",
    "test.combine_pages(97,98)"
   ]
  },
  {
   "cell_type": "code",
   "execution_count": null,
   "metadata": {},
   "outputs": [],
   "source": [
    "drawer = ct.BoxDrawer(test,start = 0, end = 20)\n",
    "drawer.draw()"
   ]
  },
  {
   "cell_type": "code",
   "execution_count": null,
   "metadata": {},
   "outputs": [],
   "source": [
    "drawer = ct.BoxDrawer(test,start = 20, end = 50)\n",
    "drawer.draw()"
   ]
  },
  {
   "cell_type": "code",
   "execution_count": null,
   "metadata": {},
   "outputs": [],
   "source": [
    "drawer = ct.BoxDrawer(test,start = 50)\n",
    "drawer.draw()"
   ]
  },
  {
   "cell_type": "code",
   "execution_count": null,
   "metadata": {},
   "outputs": [],
   "source": [
    "test.combine_gpt_and_ocr()"
   ]
  },
  {
   "cell_type": "code",
   "execution_count": null,
   "metadata": {},
   "outputs": [],
   "source": [
    "test.translate()"
   ]
  },
  {
   "cell_type": "code",
   "execution_count": 3,
   "metadata": {},
   "outputs": [],
   "source": [
    "\n",
    "test.make_pdf()\n"
   ]
  }
 ],
 "metadata": {
  "kernelspec": {
   "display_name": "comic_translator",
   "language": "python",
   "name": "python3"
  },
  "language_info": {
   "codemirror_mode": {
    "name": "ipython",
    "version": 3
   },
   "file_extension": ".py",
   "mimetype": "text/x-python",
   "name": "python",
   "nbconvert_exporter": "python",
   "pygments_lexer": "ipython3",
   "version": "3.11.6"
  }
 },
 "nbformat": 4,
 "nbformat_minor": 2
}
