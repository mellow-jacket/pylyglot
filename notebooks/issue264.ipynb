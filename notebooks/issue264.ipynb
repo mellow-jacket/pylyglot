{
 "cells": [
  {
   "cell_type": "code",
   "execution_count": 1,
   "metadata": {},
   "outputs": [],
   "source": [
    "import os\n",
    "\n",
    "os.chdir('..')"
   ]
  },
  {
   "cell_type": "code",
   "execution_count": 2,
   "metadata": {},
   "outputs": [],
   "source": [
    "%matplotlib widget\n",
    "import ctpy as ct\n",
    "from dotenv import load_dotenv\n",
    "\n",
    "# Load environment variables from .env file\n",
    "load_dotenv()\n",
    "\n",
    "# Use the API key\n",
    "api_key = os.getenv('API_KEY')"
   ]
  },
  {
   "cell_type": "code",
   "execution_count": 3,
   "metadata": {},
   "outputs": [],
   "source": [
    "test = ct.issue(\n",
    "    name='issue264',\n",
    "    url = 'https://newtoki317.com/webtoon/33962525?toon=%EC%9D%BC%EB%B0%98%EC%9B%B9%ED%88%B0',\n",
    "    api_key=api_key\n",
    "    )"
   ]
  },
  {
   "cell_type": "code",
   "execution_count": null,
   "metadata": {},
   "outputs": [],
   "source": [
    "#ct.split_file('raw_chapters/test264/raw_images/page_num_91.jpeg')"
   ]
  },
  {
   "cell_type": "code",
   "execution_count": null,
   "metadata": {},
   "outputs": [],
   "source": [
    "test.downsample(scale_factor=2.0)"
   ]
  },
  {
   "cell_type": "code",
   "execution_count": null,
   "metadata": {},
   "outputs": [],
   "source": [
    "test.combine_pages(2,3)\n",
    "test.combine_pages(6,7)\n",
    "test.combine_pages(16,17)\n",
    "test.combine_pages(20,21)\n",
    "test.combine_pages(24,25)\n",
    "test.combine_pages(26,27)\n",
    "test.combine_pages(28,29)\n",
    "test.combine_pages(30,31)\n",
    "test.combine_pages(35,36)\n",
    "test.combine_pages(37,38)\n",
    "test.combine_pages(39,40)\n",
    "test.combine_pages(41,42)\n",
    "test.combine_pages(44,45)\n",
    "test.combine_pages(47,48)\n",
    "test.combine_pages(49,50)\n",
    "test.combine_pages(53,54)\n",
    "test.combine_pages(56,57)\n",
    "test.combine_pages(58,59)\n",
    "test.combine_pages(60,61)\n",
    "test.combine_pages(63,64)\n",
    "test.combine_pages(68,69)\n",
    "test.combine_pages(70,71)\n",
    "test.combine_pages(74,75)\n",
    "test.combine_pages(76,77)\n",
    "test.combine_pages(79,80)\n",
    "test.combine_pages(81,82)\n",
    "test.combine_pages(83,84)\n",
    "test.combine_pages(85,86)\n",
    "test.combine_pages(91,92)"
   ]
  },
  {
   "cell_type": "code",
   "execution_count": null,
   "metadata": {},
   "outputs": [],
   "source": [
    "# Usage\n",
    "drawer = ct.BoxDrawer(test,start = 0, end = 20)\n",
    "drawer.draw()"
   ]
  },
  {
   "cell_type": "code",
   "execution_count": null,
   "metadata": {},
   "outputs": [],
   "source": [
    "# Usage\n",
    "drawer = ct.BoxDrawer(test,start = 20, end = 50)\n",
    "drawer.draw()"
   ]
  },
  {
   "cell_type": "code",
   "execution_count": null,
   "metadata": {},
   "outputs": [],
   "source": [
    "# Usage\n",
    "drawer = ct.BoxDrawer(test,start = 50)\n",
    "drawer.draw()"
   ]
  },
  {
   "cell_type": "code",
   "execution_count": null,
   "metadata": {},
   "outputs": [],
   "source": [
    "test.combine_gpt_and_ocr()"
   ]
  },
  {
   "cell_type": "code",
   "execution_count": 4,
   "metadata": {},
   "outputs": [],
   "source": [
    "test.translate()"
   ]
  },
  {
   "cell_type": "code",
   "execution_count": 5,
   "metadata": {},
   "outputs": [],
   "source": [
    "\n",
    "test.make_pdf()\n"
   ]
  }
 ],
 "metadata": {
  "kernelspec": {
   "display_name": "comic_translator",
   "language": "python",
   "name": "python3"
  },
  "language_info": {
   "codemirror_mode": {
    "name": "ipython",
    "version": 3
   },
   "file_extension": ".py",
   "mimetype": "text/x-python",
   "name": "python",
   "nbconvert_exporter": "python",
   "pygments_lexer": "ipython3",
   "version": "3.11.6"
  }
 },
 "nbformat": 4,
 "nbformat_minor": 2
}
