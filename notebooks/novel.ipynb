{
 "cells": [
  {
   "cell_type": "code",
   "execution_count": 1,
   "metadata": {},
   "outputs": [],
   "source": [
    "# This code was used to Identify the objects and links for sselenium to grab\n",
    "\n",
    "# from selenium import webdriver\n",
    "# from selenium.webdriver.common.by import By  # Import By for selecting elements\n",
    "# import time\n",
    "# import requests\n",
    "# import shutil\n",
    "# import os\n",
    "# import re\n",
    "# from PIL import Image\n",
    "# from io import BytesIO\n",
    "# from selenium.webdriver.support.ui import Select\n",
    "# import json\n",
    "\n",
    "# # Set up the Selenium WebDriver. The example uses Chrome.\n",
    "# # Set up the Selenium WebDriver. The example uses Chrome.\n",
    "# options = webdriver.ChromeOptions()\n",
    "# options.add_argument('--ignore-certificate-errors')\n",
    "# options.add_argument('--incognito')\n",
    "# #options.add_argument('--headless')  # Optionally, run Chrome in headless mode (without GUI)\n",
    "\n",
    "# driver = webdriver.Chrome(options=options)\n",
    "\n",
    "# # URL of the page you want to scrape\n",
    "# # 260 url\n",
    "# #url = 'https://newtoki317.com/webtoon/33111401?toon=%EC%9D%BC%EB%B0%98%EC%9B%B9%ED%88%B0'\n",
    "\n",
    "# # Navigate to the page\n",
    "# driver.get('https://booktoki319.com/novel/810021')\n",
    "# # Give the page some time to load\n",
    "# time.sleep(3)\n",
    "\n",
    "# # Locate the <select> element by its name attribute\n",
    "# select_element = driver.find_element(By.NAME, \"wr_id\")\n",
    "\n",
    "# # Now, you can work with this <select> element, for example, getting all options\n",
    "# select = Select(select_element)\n",
    "# options = select.options\n",
    "\n",
    "# # Extracting the text or value from each option\n",
    "# option_values = [option.get_attribute('value') for option in options]\n",
    "# option_texts = [option.text for option in options]\n",
    "\n",
    "# urls = [f'https://booktoki319.com/novel/{x}' for x in option_values]\n",
    "\n",
    "# links = [(f'Chapter{t[:-1]}', u) for t,u in zip(option_texts, urls)]\n",
    "\n",
    "# with open('novel_links.json', 'w') as file:\n",
    "#     json.dump(links, file)"
   ]
  },
  {
   "cell_type": "code",
   "execution_count": 2,
   "metadata": {},
   "outputs": [],
   "source": [
    "import os\n",
    "\n",
    "os.chdir('..')"
   ]
  },
  {
   "cell_type": "code",
   "execution_count": 3,
   "metadata": {},
   "outputs": [
    {
     "ename": "ModuleNotFoundError",
     "evalue": "No module named 'ctpy'",
     "output_type": "error",
     "traceback": [
      "\u001b[1;31m---------------------------------------------------------------------------\u001b[0m",
      "\u001b[1;31mModuleNotFoundError\u001b[0m                       Traceback (most recent call last)",
      "Cell \u001b[1;32mIn[3], line 1\u001b[0m\n\u001b[1;32m----> 1\u001b[0m \u001b[38;5;28;01mimport\u001b[39;00m \u001b[38;5;21;01mctpy\u001b[39;00m \u001b[38;5;28;01mas\u001b[39;00m \u001b[38;5;21;01mct\u001b[39;00m\n\u001b[0;32m      2\u001b[0m \u001b[38;5;28;01mfrom\u001b[39;00m \u001b[38;5;21;01mdotenv\u001b[39;00m \u001b[38;5;28;01mimport\u001b[39;00m load_dotenv\n\u001b[0;32m      4\u001b[0m \u001b[38;5;66;03m# Load environment variables from .env file\u001b[39;00m\n",
      "\u001b[1;31mModuleNotFoundError\u001b[0m: No module named 'ctpy'"
     ]
    }
   ],
   "source": [
    "import pylyglot as ct\n",
    "from dotenv import load_dotenv\n",
    "\n",
    "# Load environment variables from .env file\n",
    "load_dotenv()\n",
    "\n",
    "# Use the API key from .env OR set it as None\n",
    "try:\n",
    "    api_key = os.getenv('API_KEY')\n",
    "except:\n",
    "    api_key = None\n",
    "\n",
    "gemini_key = os.getenv('VERTEX')"
   ]
  },
  {
   "cell_type": "code",
   "execution_count": null,
   "metadata": {},
   "outputs": [],
   "source": [
    "import json\n",
    "\n",
    "# Loading the list back\n",
    "with open('novel_links.json', 'r') as file:\n",
    "    links = json.load(file)[::-1]"
   ]
  },
  {
   "cell_type": "code",
   "execution_count": null,
   "metadata": {},
   "outputs": [],
   "source": [
    "#chapters = [x for x in range(10,50)]\n",
    "#chapters = [x for x in range(101,721)]\n",
    "chapters = [x for x in range(313,721)]\n",
    "issues = {}"
   ]
  },
  {
   "cell_type": "code",
   "execution_count": null,
   "metadata": {},
   "outputs": [],
   "source": [
    "links[chapters[0]][0], links[chapters[-1]][0] "
   ]
  },
  {
   "cell_type": "code",
   "execution_count": null,
   "metadata": {},
   "outputs": [],
   "source": [
    "for chapter in chapters:\n",
    "    issues[chapter] = ct.issue(url= links[chapter][1],\n",
    "                    name = f'gemini{links[chapter][0]}',\n",
    "                    api_key=api_key,\n",
    "                    gemini_key=gemini_key\n",
    "                    )\n",
    "    if not bool(os.listdir(issues[chapter].path['scraped_image'])):\n",
    "        issues[chapter].scrape_novel()\n",
    "    else:\n",
    "        #issues[chapter].repopulate_from_scrape()\n",
    "        print(f'Done with {links[chapter][0]}')"
   ]
  },
  {
   "cell_type": "code",
   "execution_count": null,
   "metadata": {},
   "outputs": [],
   "source": [
    "#!gcloud config set project comictranslator-407423\n",
    "#!gcloud auth login"
   ]
  },
  {
   "cell_type": "code",
   "execution_count": null,
   "metadata": {},
   "outputs": [],
   "source": [
    "#! gcloud config set project comictranslator-407423\n",
    "#! gcloud auth login\n",
    "\n",
    "for chapter in chapters:\n",
    "    if not bool(os.listdir(issues[chapter].path['ocr_text'])):\n",
    "        print(f'Doing Chapter:{links[chapter][0]}')\n",
    "        issues[chapter] = ct.issue(url= links[chapter][1],\n",
    "                    name = f'gemini{links[chapter][0]}',\n",
    "                    api_key=api_key,\n",
    "                    gemini_key=gemini_key\n",
    "                    )\n",
    "        issues[chapter].repopulate_from_scrape()\n",
    "        issues[chapter].md_autosplit(thold=100)\n",
    "        issues[chapter].downsample(scale_factor=1.0)\n",
    "        print(f'OCR on {links[chapter][0]}')\n",
    "        issues[chapter].ocr_novel()\n",
    "        #print(f'Translating {links[chapter][0]}')\n",
    "        #issues[chapter].translate_text(model='gemini')\n",
    "    else:\n",
    "        print(f'text already present chapter{links[chapter][0]}')\n",
    "    \n",
    "\n"
   ]
  },
  {
   "cell_type": "code",
   "execution_count": null,
   "metadata": {},
   "outputs": [],
   "source": [
    "failed_chaps = []\n",
    "for chapter in chapters:\n",
    "    #if True: #not bool(os.listdir(issues[chapter].path['text'])):\n",
    "    try:\n",
    "        print(f'Doing Chapter:{links[chapter][0]}')\n",
    "        issues[chapter] = ct.issue(url= links[chapter][1],\n",
    "                    name = f'gemini{links[chapter][0]}',\n",
    "                    api_key=api_key,\n",
    "                    gemini_key=gemini_key\n",
    "                    )\n",
    "        issues[chapter].translate_text(model='gemini')\n",
    "    #else:\n",
    "    except:\n",
    "        print(f'problem with {links[chapter][0]}')\n",
    "        failed_chaps.append(chapter)\n",
    "        #print(f'text already present chapter{links[chapter][0]}')\n",
    "    "
   ]
  },
  {
   "cell_type": "code",
   "execution_count": null,
   "metadata": {},
   "outputs": [],
   "source": [
    "failed_chaps = [321,\n",
    " 339,\n",
    " 347,\n",
    " 348,\n",
    " 349,\n",
    " 350,\n",
    " 356,\n",
    " 401,\n",
    " 402,\n",
    " 443,\n",
    " 448,\n",
    " 465,\n",
    " 478,\n",
    " 479,\n",
    " 480,\n",
    " 485,\n",
    " 487,\n",
    " 492,\n",
    " 505,\n",
    " 518,\n",
    " 590,\n",
    " 598,\n",
    " 615,\n",
    " 619,\n",
    " 625,\n",
    " 662,\n",
    " 684,\n",
    " 715,\n",
    " 716]"
   ]
  },
  {
   "cell_type": "code",
   "execution_count": null,
   "metadata": {},
   "outputs": [],
   "source": [
    "for chapter in failed_chaps:\n",
    "    #if True: #not bool(os.listdir(issues[chapter].path['text'])):\n",
    "    try:\n",
    "        print(f'Doing Chapter:{links[chapter][0]}')\n",
    "        issues[chapter] = ct.issue(url= links[chapter][1],\n",
    "                    name = f'gemini{links[chapter][0]}',\n",
    "                    api_key=api_key,\n",
    "                    gemini_key=gemini_key\n",
    "                    )\n",
    "        issues[chapter].translate_text(model='gpt')\n",
    "    #else:\n",
    "    except:\n",
    "        print(f'problem with {links[chapter][0]}')\n",
    "        #print(f'text already present chapter{links[chapter][0]}')\n",
    "    "
   ]
  },
  {
   "cell_type": "code",
   "execution_count": null,
   "metadata": {},
   "outputs": [],
   "source": [
    "links[0]"
   ]
  },
  {
   "cell_type": "code",
   "execution_count": null,
   "metadata": {},
   "outputs": [],
   "source": [
    "# chapter = 0\n",
    "\n",
    "\n",
    "\n",
    "# temp = ct.issue(url= links[chapter][1],\n",
    "#                 name = f'gemini{links[chapter][0]}',\n",
    "#                 api_key=api_key,\n",
    "#                 gemini_key=gemini_key\n",
    "#                 )"
   ]
  }
 ],
 "metadata": {
  "kernelspec": {
   "display_name": "comic_translator",
   "language": "python",
   "name": "python3"
  },
  "language_info": {
   "codemirror_mode": {
    "name": "ipython",
    "version": 3
   },
   "file_extension": ".py",
   "mimetype": "text/x-python",
   "name": "python",
   "nbconvert_exporter": "python",
   "pygments_lexer": "ipython3",
   "version": "3.11.7"
  }
 },
 "nbformat": 4,
 "nbformat_minor": 2
}
