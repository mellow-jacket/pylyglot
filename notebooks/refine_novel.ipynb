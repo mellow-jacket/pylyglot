{
 "cells": [
  {
   "cell_type": "code",
   "execution_count": 1,
   "metadata": {},
   "outputs": [],
   "source": [
    "import os\n",
    "\n",
    "os.chdir('..')\n",
    "\n",
    "import pylyglot as ct\n",
    "from dotenv import load_dotenv\n",
    "\n",
    "\n",
    "# Load environment variables from .env file\n",
    "load_dotenv()\n",
    "\n",
    "# Use the API key from .env OR set it as None\n",
    "try:\n",
    "    api_key = os.getenv('API_KEY')\n",
    "except:\n",
    "    api_key = None\n",
    "\n",
    "gemini_key = os.getenv('VERTEX')\n",
    "\n",
    "import json\n",
    "\n",
    "# Loading the list back\n",
    "with open('novel_links.json', 'r') as file:\n",
    "    links = json.load(file)[::-1]"
   ]
  },
  {
   "cell_type": "code",
   "execution_count": 4,
   "metadata": {},
   "outputs": [],
   "source": [
    "#chapters = [x for x in range(10,50)]\n",
    "chapters = [x - 1 for x in [672 ]]\n",
    "issues = {}\n"
   ]
  },
  {
   "cell_type": "code",
   "execution_count": 5,
   "metadata": {},
   "outputs": [
    {
     "data": {
      "text/plain": [
       "('Chapter672', 'Chapter672')"
      ]
     },
     "execution_count": 5,
     "metadata": {},
     "output_type": "execute_result"
    }
   ],
   "source": [
    "links[chapters[0]][0], links[chapters[-1]][0] "
   ]
  },
  {
   "cell_type": "code",
   "execution_count": 6,
   "metadata": {},
   "outputs": [
    {
     "name": "stdout",
     "output_type": "stream",
     "text": [
      "Doing Chapter:Chapter672\n"
     ]
    }
   ],
   "source": [
    "failed_chaps = []\n",
    "for chapter in chapters:\n",
    "    #if True: #not bool(os.listdir(issues[chapter].path['text'])):\n",
    "    try:\n",
    "        print(f'Doing Chapter:{links[chapter][0]}')\n",
    "        issues[chapter] = ct.issue(url= links[chapter][1],\n",
    "                    name = f'gemini{links[chapter][0]}',\n",
    "                    api_key=api_key,\n",
    "                    gemini_key=gemini_key\n",
    "                    )\n",
    "        issues[chapter].translate_text_by_halves(model='gemini')\n",
    "    #else:\n",
    "    except:\n",
    "        print(f'problem with {links[chapter][0]}')\n",
    "        failed_chaps.append(chapter)\n",
    "        #print(f'text already present chapter{links[chapter][0]}')\n",
    "    "
   ]
  },
  {
   "cell_type": "code",
   "execution_count": null,
   "metadata": {},
   "outputs": [],
   "source": [
    "for chapter in chapters: #failed_chaps:\n",
    "    #if True: #not bool(os.listdir(issues[chapter].path['text'])):\n",
    "    try:\n",
    "        print(f'Doing Chapter:{links[chapter][0]}')\n",
    "        issues[chapter] = ct.issue(url= links[chapter][1],\n",
    "                    name = f'gemini{links[chapter][0]}',\n",
    "                    api_key=api_key,\n",
    "                    gemini_key=gemini_key\n",
    "                    )\n",
    "        issues[chapter].translate_text(model='gpt')\n",
    "    #else:\n",
    "    except:\n",
    "        print(f'problem with {links[chapter][0]}')\n",
    "        #print(f'text already present chapter{links[chapter][0]}')\n",
    "    "
   ]
  },
  {
   "cell_type": "code",
   "execution_count": null,
   "metadata": {},
   "outputs": [],
   "source": [
    "#! gcloud config set project comictranslator-407423\n",
    "#! gcloud auth login\n",
    "\n",
    "for chapter in chapters:\n",
    "    if not bool(os.listdir(issues[chapter].path['ocr_text'])):\n",
    "        print(f'Doing Chapter:{links[chapter][0]}')\n",
    "        issues[chapter] = ct.issue(url= links[chapter][1],\n",
    "                    name = f'gemini{links[chapter][0]}',\n",
    "                    api_key=api_key,\n",
    "                    gemini_key=gemini_key\n",
    "                    )\n",
    "        issues[chapter].repopulate_from_scrape()\n",
    "        issues[chapter].md_autosplit(thold=100)\n",
    "        issues[chapter].downsample(scale_factor=1.0)\n",
    "        print(f'OCR on {links[chapter][0]}')\n",
    "        issues[chapter].ocr_novel()\n",
    "        #print(f'Translating {links[chapter][0]}')\n",
    "        #issues[chapter].translate_text(model='gemini')\n",
    "    else:\n",
    "        print(f'text already present chapter{links[chapter][0]}')\n",
    "    \n",
    "\n"
   ]
  },
  {
   "cell_type": "code",
   "execution_count": null,
   "metadata": {},
   "outputs": [],
   "source": [
    "for chapter in chapters:\n",
    "    issues[chapter] = ct.issue(url= links[chapter][1],\n",
    "                    name = f'gemini{links[chapter][0]}',\n",
    "                    api_key=api_key,\n",
    "                    gemini_key=gemini_key\n",
    "                    )\n",
    "    if not bool(os.listdir(issues[chapter].path['scraped_image'])):\n",
    "        issues[chapter].scrape_novel()\n",
    "    else:\n",
    "        #issues[chapter].repopulate_from_scrape()\n",
    "        print(f'Done with {links[chapter][0]}')"
   ]
  },
  {
   "cell_type": "code",
   "execution_count": null,
   "metadata": {},
   "outputs": [],
   "source": [
    "#!gcloud config set project comictranslator-407423\n",
    "#!gcloud auth login"
   ]
  },
  {
   "cell_type": "code",
   "execution_count": null,
   "metadata": {},
   "outputs": [],
   "source": [
    "splits = []\n",
    "last = 0\n",
    "last_fold = 0\n",
    "for fold in range(1,721):\n",
    "    path = os.path.join(f'raw_novel/geminiChapter{fold}/ocr_text/page_num_1.txt')\n",
    "    with open(path, 'r') as f:\n",
    "        text = f.read()\n",
    "        if ')' in text:\n",
    "            text = text.split(')')[0]\n",
    "        else:\n",
    "            continue\n",
    "        if '(' in text:\n",
    "            text = text.split('(')[1]\n",
    "        else:\n",
    "            continue\n",
    "        if ',' in text:\n",
    "            text = text.split(',')[1]\n",
    "        if ' ' in text:\n",
    "            text = text.split(' ')[0]\n",
    "        try:\n",
    "            i = int(text)\n",
    "        except:\n",
    "            continue\n",
    "        if i < last:\n",
    "            print(last_fold, last)\n",
    "        last = i\n",
    "        last_fold = fold"
   ]
  },
  {
   "cell_type": "code",
   "execution_count": null,
   "metadata": {},
   "outputs": [],
   "source": []
  },
  {
   "cell_type": "markdown",
   "metadata": {},
   "source": [
    "problem chaps\n",
    "67, 74, \n",
    "[66,73]"
   ]
  },
  {
   "cell_type": "code",
   "execution_count": null,
   "metadata": {},
   "outputs": [],
   "source": []
  },
  {
   "cell_type": "code",
   "execution_count": null,
   "metadata": {},
   "outputs": [],
   "source": []
  },
  {
   "cell_type": "code",
   "execution_count": null,
   "metadata": {},
   "outputs": [],
   "source": [
    "# chapter = 0\n",
    "\n",
    "\n",
    "\n",
    "# temp = ct.issue(url= links[chapter][1],\n",
    "#                 name = f'gemini{links[chapter][0]}',\n",
    "#                 api_key=api_key,\n",
    "#                 gemini_key=gemini_key\n",
    "#                 )"
   ]
  }
 ],
 "metadata": {
  "kernelspec": {
   "display_name": "comic_translator",
   "language": "python",
   "name": "python3"
  },
  "language_info": {
   "codemirror_mode": {
    "name": "ipython",
    "version": 3
   },
   "file_extension": ".py",
   "mimetype": "text/x-python",
   "name": "python",
   "nbconvert_exporter": "python",
   "pygments_lexer": "ipython3",
   "version": "3.11.7"
  }
 },
 "nbformat": 4,
 "nbformat_minor": 2
}
