{
 "cells": [
  {
   "cell_type": "code",
   "execution_count": null,
   "metadata": {},
   "outputs": [],
   "source": [
    "import os\n",
    "\n",
    "os.chdir('..')"
   ]
  },
  {
   "cell_type": "code",
   "execution_count": 1,
   "metadata": {},
   "outputs": [],
   "source": [
    "%matplotlib widget\n",
    "import ctpy as ct\n",
    "from dotenv import load_dotenv\n",
    "\n",
    "# Load environment variables from .env file\n",
    "load_dotenv()\n",
    "\n",
    "# Use the API key\n",
    "api_key = os.getenv('API_KEY')"
   ]
  },
  {
   "cell_type": "code",
   "execution_count": 2,
   "metadata": {},
   "outputs": [],
   "source": [
    "test = ct.issue(\n",
    "    name='issue263',\n",
    "    url = 'https://newtoki317.com/bbs/captcha.php?bo_table=webtoon&wr_id=33735209&toon=%EC%9D%BC%EB%B0%98%EC%9B%B9%ED%88%B0',\n",
    "    api_key=api_key\n",
    "    )\n",
    "\n",
    "test.make_pdf()"
   ]
  },
  {
   "cell_type": "code",
   "execution_count": null,
   "metadata": {},
   "outputs": [],
   "source": [
    "ct.split_file('raw_chapters/issue263/raw_images/page_num_86.jpeg')"
   ]
  },
  {
   "cell_type": "code",
   "execution_count": null,
   "metadata": {},
   "outputs": [],
   "source": [
    "#test.scrape()"
   ]
  },
  {
   "cell_type": "code",
   "execution_count": null,
   "metadata": {},
   "outputs": [],
   "source": [
    "test.downsample(scale_factor=2.0)"
   ]
  },
  {
   "cell_type": "code",
   "execution_count": null,
   "metadata": {},
   "outputs": [],
   "source": [
    "test.combine_pages(3,4)\n",
    "test.combine_pages(7,8)\n",
    "test.combine_pages(9,10)\n",
    "test.combine_pages(12,13)\n",
    "test.combine_pages(14,15)\n",
    "test.combine_pages(16,17)\n",
    "test.combine_pages(18,19)\n",
    "test.combine_pages(22,23)\n",
    "test.combine_pages(24,25)\n",
    "test.combine_pages(27,28)\n",
    "test.combine_pages(29,30)\n",
    "test.combine_pages(31,32,33)\n",
    "test.combine_pages(35,36)\n",
    "test.combine_pages(37,38)\n",
    "test.combine_pages(46,47)\n",
    "test.combine_pages(48,49)\n",
    "test.combine_pages(52,53)\n",
    "test.combine_pages(57,58)\n",
    "test.combine_pages(60,61)\n",
    "test.combine_pages(62,63)\n",
    "test.combine_pages(69,70)\n",
    "test.combine_pages(75,76)\n",
    "test.combine_pages(77,78,79)\n",
    "test.combine_pages(82,83)\n",
    "test.combine_pages(87,88)\n",
    "test.combine_pages(89,90)\n",
    "test.combine_pages(91,92)\n",
    "test.combine_pages(93,94)"
   ]
  },
  {
   "cell_type": "code",
   "execution_count": null,
   "metadata": {},
   "outputs": [],
   "source": [
    "drawer = ct.BoxDrawer(test,start = 0, end = 20)\n",
    "drawer.draw()"
   ]
  },
  {
   "cell_type": "code",
   "execution_count": null,
   "metadata": {},
   "outputs": [],
   "source": [
    "drawer = ct.BoxDrawer(test,start = 20, end = 40)\n",
    "drawer.draw()"
   ]
  },
  {
   "cell_type": "code",
   "execution_count": null,
   "metadata": {},
   "outputs": [],
   "source": [
    "drawer = ct.BoxDrawer(test,start = 40)\n",
    "drawer.draw()"
   ]
  },
  {
   "cell_type": "code",
   "execution_count": null,
   "metadata": {},
   "outputs": [],
   "source": [
    "test.combine_gpt_and_ocr()"
   ]
  },
  {
   "cell_type": "code",
   "execution_count": 3,
   "metadata": {},
   "outputs": [],
   "source": [
    "test.translate()"
   ]
  },
  {
   "cell_type": "code",
   "execution_count": 3,
   "metadata": {},
   "outputs": [],
   "source": [
    "\n",
    "test.make_pdf()\n"
   ]
  },
  {
   "cell_type": "code",
   "execution_count": null,
   "metadata": {},
   "outputs": [],
   "source": []
  },
  {
   "cell_type": "code",
   "execution_count": null,
   "metadata": {},
   "outputs": [],
   "source": []
  }
 ],
 "metadata": {
  "kernelspec": {
   "display_name": "comic_translator",
   "language": "python",
   "name": "python3"
  },
  "language_info": {
   "codemirror_mode": {
    "name": "ipython",
    "version": 3
   },
   "file_extension": ".py",
   "mimetype": "text/x-python",
   "name": "python",
   "nbconvert_exporter": "python",
   "pygments_lexer": "ipython3",
   "version": "3.11.6"
  }
 },
 "nbformat": 4,
 "nbformat_minor": 2
}
