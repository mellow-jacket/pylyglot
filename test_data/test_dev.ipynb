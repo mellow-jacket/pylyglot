{
 "cells": [
  {
   "cell_type": "code",
   "execution_count": 5,
   "metadata": {},
   "outputs": [],
   "source": [
    "from PIL import Image, ImageDraw, ImageFont\n",
    "import textwrap\n",
    "import os\n",
    "\n",
    "def text_to_image(path, output_path,\n",
    "                   lang = 'eng',\n",
    "                   font_path = None,\n",
    "                   page_width=595, font_size=24, line_height=30, margin=40, wrap_width = 40):\n",
    "    # Load a font\n",
    "    if font_path:\n",
    "        font = ImageFont.truetype(font_path, font_size)\n",
    "    elif lang == 'eng':\n",
    "        font = ImageFont.truetype('../fonts/arial-unicode-ms.ttf', font_size)\n",
    "        wrap_width = 40\n",
    "    elif lang == 'kor':\n",
    "        font = ImageFont.truetype('../fonts/Happiness-Sans-Print-Regular.ttf', font_size)\n",
    "        wrap_width = 27\n",
    "    # Read text from a file\n",
    "    with open(path , 'r') as file:\n",
    "        text = file.read()\n",
    "\n",
    "    # Split text into paragraphs\n",
    "    paragraphs = text.split('\\n')\n",
    "\n",
    "    # Prepare text with wrapped lines and double line breaks between paragraphs\n",
    "    wrapped_paragraphs = [textwrap.fill(paragraph, width=wrap_width) for paragraph in paragraphs]\n",
    "    wrapped_text = '\\n\\n'.join(wrapped_paragraphs)  # Double line break between paragraphs\n",
    "    lines = wrapped_text.split('\\n')\n",
    "\n",
    "    # Calculate image height\n",
    "    img_height = line_height * len(lines) + 2 * margin\n",
    "\n",
    "    # Create an image with white background\n",
    "    img = Image.new('RGB', (page_width, img_height), color='white')\n",
    "    draw = ImageDraw.Draw(img)\n",
    "\n",
    "    # Initialize starting position\n",
    "    y = margin\n",
    "\n",
    "    # Add text to the image\n",
    "    for line in lines:\n",
    "        draw.text((margin, y), line, font=font, fill='black')\n",
    "        y += line_height\n",
    "\n",
    "    # Save the image\n",
    "    img.save(f\"{output_path}.jpg\")\n"
   ]
  },
  {
   "cell_type": "code",
   "execution_count": 6,
   "metadata": {},
   "outputs": [],
   "source": [
    "path = 'novel_text/english_chapter.txt'\n",
    "\n",
    "# Convert the text to an image\n",
    "text_to_image(path, 'novel_jpeg/english_page_num_1')"
   ]
  },
  {
   "cell_type": "code",
   "execution_count": 7,
   "metadata": {},
   "outputs": [],
   "source": [
    "path = 'novel_text/korean_chapter.txt'\n",
    "\n",
    "# Convert the text to an image\n",
    "text_to_image(path, 'novel_jpeg/korean_page_num_1', lang='kor')"
   ]
  }
 ],
 "metadata": {
  "kernelspec": {
   "display_name": "comic_translator",
   "language": "python",
   "name": "python3"
  },
  "language_info": {
   "codemirror_mode": {
    "name": "ipython",
    "version": 3
   },
   "file_extension": ".py",
   "mimetype": "text/x-python",
   "name": "python",
   "nbconvert_exporter": "python",
   "pygments_lexer": "ipython3",
   "version": "3.11.7"
  }
 },
 "nbformat": 4,
 "nbformat_minor": 2
}
